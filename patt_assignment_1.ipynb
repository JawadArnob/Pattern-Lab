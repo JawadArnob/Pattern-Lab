{
  "nbformat": 4,
  "nbformat_minor": 0,
  "metadata": {
    "colab": {
      "name": "patt assignment 1.ipynb",
      "provenance": [],
      "collapsed_sections": [],
      "authorship_tag": "ABX9TyPG11iVQtDGVIGqX5aXdjAv",
      "include_colab_link": true
    },
    "kernelspec": {
      "name": "python3",
      "display_name": "Python 3"
    }
  },
  "cells": [
    {
      "cell_type": "markdown",
      "metadata": {
        "id": "view-in-github",
        "colab_type": "text"
      },
      "source": [
        "<a href=\"https://colab.research.google.com/github/JawadArnob/Pattern-Lab/blob/main/patt_assignment_1.ipynb\" target=\"_parent\"><img src=\"https://colab.research.google.com/assets/colab-badge.svg\" alt=\"Open In Colab\"/></a>"
      ]
    },
    {
      "cell_type": "code",
      "metadata": {
        "colab": {
          "base_uri": "https://localhost:8080/"
        },
        "id": "VHKSGhKrC873",
        "outputId": "96930f76-8e82-4fc1-ba99-746ba98510bf"
      },
      "source": [
        "from google.colab import drive\r\n",
        "drive.mount('/content/gdrive')"
      ],
      "execution_count": null,
      "outputs": [
        {
          "output_type": "stream",
          "text": [
            "Mounted at /content/gdrive\n"
          ],
          "name": "stdout"
        }
      ]
    },
    {
      "cell_type": "code",
      "metadata": {
        "colab": {
          "base_uri": "https://localhost:8080/"
        },
        "id": "cAtRQc00DDDu",
        "outputId": "a1d95681-105b-4ca7-8ec2-074db5bc58f8"
      },
      "source": [
        "!pip install biopython"
      ],
      "execution_count": null,
      "outputs": [
        {
          "output_type": "stream",
          "text": [
            "Collecting biopython\n",
            "\u001b[?25l  Downloading https://files.pythonhosted.org/packages/76/02/8b606c4aa92ff61b5eda71d23b499ab1de57d5e818be33f77b01a6f435a8/biopython-1.78-cp36-cp36m-manylinux1_x86_64.whl (2.3MB)\n",
            "\u001b[K     |████████████████████████████████| 2.3MB 5.7MB/s \n",
            "\u001b[?25hRequirement already satisfied: numpy in /usr/local/lib/python3.6/dist-packages (from biopython) (1.19.4)\n",
            "Installing collected packages: biopython\n",
            "Successfully installed biopython-1.78\n"
          ],
          "name": "stdout"
        }
      ]
    },
    {
      "cell_type": "code",
      "metadata": {
        "colab": {
          "base_uri": "https://localhost:8080/"
        },
        "id": "RUkcU7tdF5y4",
        "outputId": "d6050094-7a8a-4bac-e038-e9ce5bdc39e7"
      },
      "source": [
        "%cd /content/gdrive/MyDrive/11th trimester/pattern lab/fasta files\r\n",
        "%ls\r\n"
      ],
      "execution_count": null,
      "outputs": [
        {
          "output_type": "stream",
          "text": [
            "/content/gdrive/MyDrive/11th trimester/pattern lab/fasta files\n",
            "NA_test.fasta   NE_test.txt       PA_test.fasta   PE_test.txt\n",
            "NA_train.fasta  NE_train.txt      PA_train.fasta  PE_train.txt\n",
            "NC_test.txt     NGpick_test.txt   PC_test.txt     PGpick_test.txt\n",
            "NC_train.txt    NGpick_train.txt  PC_train.txt    PGpick_train.txt\n",
            "ND_test.txt     NGsub_test.txt    PD_test.txt     PGsub_test.txt\n",
            "ND_train.txt    NGsub_train.txt   PD_train.txt    PGsub_train.txt\n"
          ],
          "name": "stdout"
        }
      ]
    },
    {
      "cell_type": "code",
      "metadata": {
        "id": "aB31IUWXDZAY"
      },
      "source": [
        "from Bio import  SeqIO\r\n",
        "\r\n",
        "fasta_files = ['NA_test', 'NA_train','PA_train', 'PA_test']\r\n",
        "\r\n",
        "\r\n",
        "def text_to_fasta(filename):\r\n",
        "\r\n",
        "  path = f'{filename}.fasta'\r\n",
        "  outputpath = f'../special fasta/{filename}special.txt'\r\n",
        "  outputfile = open(outputpath, \"w\")\r\n",
        "  label = '1'\r\n",
        "  mode = 'training'\r\n",
        "  if filename[0] == 'N':\r\n",
        "    label = '0'\r\n",
        "  if 'test' in filename:\r\n",
        "    mode = 'testing'\r\n",
        "\r\n",
        "  for Seq_record in SeqIO.parse(path, 'fasta'):\r\n",
        "    id = Seq_record.id + '|' + label + '|' + mode\r\n",
        "    sequence = str(Seq_record.seq)\r\n",
        "    outputfile.write('>' + id + '\\n' + sequence + '\\n')\r\n",
        "  outputfile.close()\r\n",
        "\r\n",
        "for file in fasta_files:\r\n",
        "  text_to_fasta(file)"
      ],
      "execution_count": null,
      "outputs": []
    },
    {
      "cell_type": "code",
      "metadata": {
        "colab": {
          "base_uri": "https://localhost:8080/"
        },
        "id": "r-egrEfJI1A0",
        "outputId": "86e4c222-e08c-4749-d21d-6f70c729bf62"
      },
      "source": [
        "%cd /content/gdrive/MyDrive/11th trimester/pattern lab/iLearn-master"
      ],
      "execution_count": null,
      "outputs": [
        {
          "output_type": "stream",
          "text": [
            "/content/gdrive/MyDrive/11th trimester/pattern lab/iLearn-master\n"
          ],
          "name": "stdout"
        }
      ]
    },
    {
      "cell_type": "code",
      "metadata": {
        "id": "jhwPdDuPFXPC"
      },
      "source": [
        "# !python descnucleotide/Kmer.py --file '/content/gdrive/MyDrive/11th trimester/pattern lab/special fasta/PA_testspecial.txt' --kmer 1 --normalize --format csv --out '/content/gdrive/MyDrive/11th trimester/pattern lab/csv files/PA_test(kmer1).csv'"
      ],
      "execution_count": null,
      "outputs": []
    },
    {
      "cell_type": "code",
      "metadata": {
        "colab": {
          "base_uri": "https://localhost:8080/"
        },
        "id": "8cc_s3A-OoOy",
        "outputId": "8ba84bde-fdf6-4723-ab6e-b73ff9e44e18"
      },
      "source": [
        "# !python iLearn-nucleotide-basic.py --file '/content/gdrive/MyDrive/11th trimester/pattern lab/special fasta/NA_testspecial.txt' --method NCP --format csv --out '/content/gdrive/MyDrive/11th trimester/pattern lab/csv files/NA_test(NCP).csv'"
      ],
      "execution_count": null,
      "outputs": [
        {
          "output_type": "stream",
          "text": [
            "Descriptor method: NCP\n"
          ],
          "name": "stdout"
        }
      ]
    },
    {
      "cell_type": "code",
      "metadata": {
        "colab": {
          "base_uri": "https://localhost:8080/"
        },
        "id": "dBhBM14FT9Kv",
        "outputId": "5642c580-0727-4468-c092-22f165e2c38f"
      },
      "source": [
        "# !python iLearn-nucleotide-basic.py --file '/content/gdrive/MyDrive/11th trimester/pattern lab/special fasta/PA_testspecial.txt' --method PseEIIP --format csv --out '/content/gdrive/MyDrive/11th trimester/pattern lab/csv files/PA_test(PseEIIP).csv'"
      ],
      "execution_count": null,
      "outputs": [
        {
          "output_type": "stream",
          "text": [
            "Descriptor method: PseEIIP\n"
          ],
          "name": "stdout"
        }
      ]
    },
    {
      "cell_type": "code",
      "metadata": {
        "colab": {
          "base_uri": "https://localhost:8080/"
        },
        "id": "n_t8dKASXYaI",
        "outputId": "0b50a87e-fb72-43fc-c146-493d2762d176"
      },
      "source": [
        "# !python iLearn-protein-basic.py --file '/content/gdrive/MyDrive/11th trimester/pattern lab/special fasta/NA_testspecial.txt'  --method binary --format csv --out '/content/gdrive/MyDrive/11th trimester/pattern lab/csv files/NA_test(binary).csv'"
      ],
      "execution_count": null,
      "outputs": [
        {
          "output_type": "stream",
          "text": [
            "Descriptor type: binary\n"
          ],
          "name": "stdout"
        }
      ]
    },
    {
      "cell_type": "code",
      "metadata": {
        "id": "_2UgwnCqfgMx"
      },
      "source": [
        "# !python descnucleotide/CKSNAP.py --file '/content/gdrive/MyDrive/11th trimester/pattern lab/special fasta/PA_testspecial.txt'  --gap 1 --format csv --out '/content/gdrive/MyDrive/11th trimester/pattern lab/csv files/PA_test(CKSNAP1).csv'"
      ],
      "execution_count": null,
      "outputs": []
    },
    {
      "cell_type": "code",
      "metadata": {
        "colab": {
          "base_uri": "https://localhost:8080/"
        },
        "id": "bHZF5-LJoCgO",
        "outputId": "26c37a34-3a7c-4d12-d20a-ceedbe900b4d"
      },
      "source": [
        "# !python iLearn-nucleotide-basic.py --file '/content/gdrive/MyDrive/11th trimester/pattern lab/special fasta/PA_testspecial.txt'  --method EIIP --format csv --out '/content/gdrive/MyDrive/11th trimester/pattern lab/csv files/PA_test(EIIP).csv'"
      ],
      "execution_count": null,
      "outputs": [
        {
          "output_type": "stream",
          "text": [
            "Descriptor method: EIIP\n"
          ],
          "name": "stdout"
        }
      ]
    },
    {
      "cell_type": "code",
      "metadata": {
        "id": "9oLER0typHMr"
      },
      "source": [
        "# !python iLearn-nucleotide-acc.py --file '/content/gdrive/MyDrive/11th trimester/pattern lab/special fasta/NA_testspecial.txt' --method DAC --type DNA --lag 7 --format csv --out '/content/gdrive/MyDrive/11th trimester/pattern lab/csv files/NA_test(DAC7).csv'"
      ],
      "execution_count": null,
      "outputs": []
    },
    {
      "cell_type": "code",
      "metadata": {
        "id": "EywuXGoXxI71"
      },
      "source": [
        "# !python descnucleotide/ENAC.py --file '/content/gdrive/MyDrive/11th trimester/pattern lab/special fasta/PA_testspecial.txt' --slwindow 5 --format csv --out '/content/gdrive/MyDrive/11th trimester/pattern lab/csv files/PA_test(ENAC5).csv'"
      ],
      "execution_count": null,
      "outputs": []
    },
    {
      "cell_type": "code",
      "metadata": {
        "id": "i6EyoKFuzZ4Q"
      },
      "source": [
        "# !python iLearn-nucleotide-acc.py --file '/content/gdrive/MyDrive/11th trimester/pattern lab/special fasta/NA_testspecial.txt' --method TAC --type DNA --lag 7 --format csv --out '/content/gdrive/MyDrive/11th trimester/pattern lab/csv files/NA_test(TAC7).csv'"
      ],
      "execution_count": null,
      "outputs": []
    }
  ]
}