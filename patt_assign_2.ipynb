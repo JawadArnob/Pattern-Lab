{
  "nbformat": 4,
  "nbformat_minor": 0,
  "metadata": {
    "colab": {
      "name": "patt assign 2.ipynb",
      "provenance": [],
      "collapsed_sections": [],
      "authorship_tag": "ABX9TyNy77kx/3CAtSx9GRS00tnM",
      "include_colab_link": true
    },
    "kernelspec": {
      "name": "python3",
      "display_name": "Python 3"
    }
  },
  "cells": [
    {
      "cell_type": "markdown",
      "metadata": {
        "id": "view-in-github",
        "colab_type": "text"
      },
      "source": [
        "<a href=\"https://colab.research.google.com/github/JawadArnob/Pattern-Lab/blob/main/patt_assign_2.ipynb\" target=\"_parent\"><img src=\"https://colab.research.google.com/assets/colab-badge.svg\" alt=\"Open In Colab\"/></a>"
      ]
    },
    {
      "cell_type": "code",
      "metadata": {
        "id": "bCXIbOTXy1o6"
      },
      "source": [
        "import pandas as pd\r\n",
        "import numpy as np\r\n"
      ],
      "execution_count": 1,
      "outputs": []
    },
    {
      "cell_type": "code",
      "metadata": {
        "colab": {
          "base_uri": "https://localhost:8080/"
        },
        "id": "1utJ-zMiy4L2",
        "outputId": "a36d0c84-97af-4564-9e24-6af870f30b7a"
      },
      "source": [
        "from google.colab import drive\r\n",
        "drive.mount('/content/gdrive', force_remount=True)"
      ],
      "execution_count": 1,
      "outputs": [
        {
          "output_type": "stream",
          "text": [
            "Mounted at /content/gdrive\n"
          ],
          "name": "stdout"
        }
      ]
    },
    {
      "cell_type": "code",
      "metadata": {
        "colab": {
          "base_uri": "https://localhost:8080/"
        },
        "id": "cX2nY427y-HO",
        "outputId": "ffcc6e59-a780-463d-9030-c37d8032c27c"
      },
      "source": [
        "%cd /content/gdrive/MyDrive/11th trimester/pattern lab"
      ],
      "execution_count": 2,
      "outputs": [
        {
          "output_type": "stream",
          "text": [
            "/content/gdrive/MyDrive/11th trimester/pattern lab\n"
          ],
          "name": "stdout"
        }
      ]
    },
    {
      "cell_type": "code",
      "metadata": {
        "id": "DUg5zsVAzQ5R"
      },
      "source": [
        "files = ['NA_test', 'NA_train', 'PA_test', 'PA_train']\r\n",
        "features = ['(binary)', '(CKSNAP1)', '(CKSNAP3)', '(CKSNAP5)', '(CKSNAP7)', '(CKSNAP9)', '(DAC7)', '(EIIP)', '(ENAC5)','(ENAC10)','(kmer1)','(kmer2)', '(kmer3)', '(kmer4)', '(kmer5)', '(NCP)', '(PseEIIP)','(TAC7)']\r\n",
        "# '(TAC5)', '(TAC6)',, '(DAC5)','(DAC6)'\r\n",
        "\r\n",
        "for file in files:\r\n",
        "  for feature in features:\r\n",
        "    df = pd.read_csv(f'/content/gdrive/MyDrive/11th trimester/pattern lab/csv files/{file}{feature}.csv', header=None)\r\n",
        "    df.drop(df.columns[[0]], axis=1, inplace=True)\r\n",
        "    data = df.to_numpy()\r\n",
        "    np.save(f'/content/gdrive/MyDrive/11th trimester/pattern lab/numpys/{file}_{feature}.npy', data)"
      ],
      "execution_count": 10,
      "outputs": []
    },
    {
      "cell_type": "code",
      "metadata": {
        "colab": {
          "base_uri": "https://localhost:8080/"
        },
        "id": "aNfkLAAp6Fhq",
        "outputId": "588cfecc-9862-4576-877c-cf0912a322ee"
      },
      "source": [
        "till = -1\r\n",
        "index_dict = {}\r\n",
        "for feature in features:\r\n",
        "  data = np.load(f'/content/gdrive/MyDrive/11th trimester/pattern lab/numpys/NA_test_{feature}.npy')\r\n",
        "  index_dict[f'{feature}'] = [till+1 , till + data.shape[1]]\r\n",
        "  till = till + (data.shape[1])\r\n",
        "\r\n",
        "print(index_dict)"
      ],
      "execution_count": 12,
      "outputs": [
        {
          "output_type": "stream",
          "text": [
            "{'(binary)': [0, 819], '(CKSNAP1)': [820, 851], '(CKSNAP3)': [852, 915], '(CKSNAP5)': [916, 1011], '(CKSNAP7)': [1012, 1139], '(CKSNAP9)': [1140, 1299], '(DAC7)': [1300, 1341], '(EIIP)': [1342, 1382], '(ENAC5)': [1383, 1530], '(ENAC10)': [1531, 1658], '(kmer1)': [1659, 1662], '(kmer2)': [1663, 1678], '(kmer3)': [1679, 1742], '(kmer4)': [1743, 1998], '(kmer5)': [1999, 3022], '(NCP)': [3023, 3145], '(PseEIIP)': [3146, 3209], '(TAC7)': [3210, 3223]}\n"
          ],
          "name": "stdout"
        }
      ]
    },
    {
      "cell_type": "code",
      "metadata": {
        "colab": {
          "base_uri": "https://localhost:8080/"
        },
        "id": "Rhz5zEp5FAGQ",
        "outputId": "502c5f49-66d2-4598-e259-4894ad58a1a1"
      },
      "source": [
        "import pickle\r\n",
        "\r\n",
        "with open('index_dict.pickle', 'wb') as handle:\r\n",
        "    pickle.dump(index_dict, handle, protocol=pickle.HIGHEST_PROTOCOL)\r\n",
        "\r\n",
        "# Load data (deserialize)\r\n",
        "with open('index_dict.pickle', 'rb') as handle:\r\n",
        "    unserialized_data = pickle.load(handle)\r\n",
        "print(unserialized_data)"
      ],
      "execution_count": 16,
      "outputs": [
        {
          "output_type": "stream",
          "text": [
            "{'(binary)': [0, 819], '(CKSNAP1)': [820, 851], '(CKSNAP3)': [852, 915], '(CKSNAP5)': [916, 1011], '(CKSNAP7)': [1012, 1139], '(CKSNAP9)': [1140, 1299], '(DAC7)': [1300, 1341], '(EIIP)': [1342, 1382], '(ENAC5)': [1383, 1530], '(ENAC10)': [1531, 1658], '(kmer1)': [1659, 1662], '(kmer2)': [1663, 1678], '(kmer3)': [1679, 1742], '(kmer4)': [1743, 1998], '(kmer5)': [1999, 3022], '(NCP)': [3023, 3145], '(PseEIIP)': [3146, 3209], '(TAC7)': [3210, 3223]}\n"
          ],
          "name": "stdout"
        }
      ]
    },
    {
      "cell_type": "code",
      "metadata": {
        "id": "eDpjho3iFLjn"
      },
      "source": [
        "for file in files:\r\n",
        "  narr = np.concatenate([np.load(f'/content/gdrive/MyDrive/11th trimester/pattern lab/numpys/{file}_{feature}.npy') for feature in features], axis=1)\r\n",
        "  np.save(f'{file}_all.npy', narr)"
      ],
      "execution_count": 17,
      "outputs": []
    },
    {
      "cell_type": "code",
      "metadata": {
        "id": "C1OrV2BOHP5o"
      },
      "source": [
        "Xtrain = np.concatenate([np.load('PA_train_all.npy'), np.load('NA_train_all.npy')], axis = 0)\r\n",
        "Xtest = np.concatenate([np.load('PA_test_all.npy'), np.load('NA_test_all.npy')], axis = 0)\r\n",
        "np.save('final datas/Xtrain.npy', Xtrain)\r\n",
        "np.save('final datas/Xtest.npy', Xtest)"
      ],
      "execution_count": 18,
      "outputs": []
    },
    {
      "cell_type": "code",
      "metadata": {
        "colab": {
          "base_uri": "https://localhost:8080/"
        },
        "id": "I-oah6Q9Hg-6",
        "outputId": "3da3447c-c64e-4849-fb4c-d36f149dd7d5"
      },
      "source": [
        "print(Xtrain.shape)"
      ],
      "execution_count": 20,
      "outputs": [
        {
          "output_type": "stream",
          "text": [
            "(3692, 3224)\n"
          ],
          "name": "stdout"
        }
      ]
    },
    {
      "cell_type": "code",
      "metadata": {
        "id": "a2faAEgyIgDa"
      },
      "source": [
        "Ytrain = np.concatenate([np.ones(shape=(1846)), np.zeros(shape=(1846))], axis = 0)\r\n",
        "Ytest = np.concatenate([np.ones(shape=(132)), np.zeros(shape=(132))], axis = 0)\r\n",
        "\r\n",
        "np.save('final datas/Ytrain.npy', Ytrain)\r\n",
        "np.save('final datas/Ytest.npy', Ytest)"
      ],
      "execution_count": 21,
      "outputs": []
    },
    {
      "cell_type": "code",
      "metadata": {
        "id": "9kAvx-ksIpwy"
      },
      "source": [
        ""
      ],
      "execution_count": null,
      "outputs": []
    }
  ]
}