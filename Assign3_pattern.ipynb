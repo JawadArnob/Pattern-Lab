{
  "nbformat": 4,
  "nbformat_minor": 0,
  "metadata": {
    "colab": {
      "name": "Assign3 pattern.ipynb",
      "provenance": [],
      "authorship_tag": "ABX9TyPAxqmRA02WMVUk3eRlwyU4",
      "include_colab_link": true
    },
    "kernelspec": {
      "name": "python3",
      "display_name": "Python 3"
    }
  },
  "cells": [
    {
      "cell_type": "markdown",
      "metadata": {
        "id": "view-in-github",
        "colab_type": "text"
      },
      "source": [
        "<a href=\"https://colab.research.google.com/github/JawadArnob/Pattern-Lab/blob/main/Assign3_pattern.ipynb\" target=\"_parent\"><img src=\"https://colab.research.google.com/assets/colab-badge.svg\" alt=\"Open In Colab\"/></a>"
      ]
    },
    {
      "cell_type": "code",
      "metadata": {
        "colab": {
          "base_uri": "https://localhost:8080/"
        },
        "id": "PlO_Ep_e8Q0-",
        "outputId": "c5188935-7def-4ce6-f754-3b14c6f5ed37"
      },
      "source": [
        "from google.colab import drive\r\n",
        "drive.mount('/content/gdrive', force_remount=True)"
      ],
      "execution_count": 1,
      "outputs": [
        {
          "output_type": "stream",
          "text": [
            "Mounted at /content/gdrive\n"
          ],
          "name": "stdout"
        }
      ]
    },
    {
      "cell_type": "code",
      "metadata": {
        "colab": {
          "base_uri": "https://localhost:8080/"
        },
        "id": "ZYXzz-L7-RLF",
        "outputId": "c112194a-43bf-4898-e166-4e0ae64edbf4"
      },
      "source": [
        "%cd /content/gdrive/MyDrive/11th trimester/pattern lab"
      ],
      "execution_count": 2,
      "outputs": [
        {
          "output_type": "stream",
          "text": [
            "/content/gdrive/MyDrive/11th trimester/pattern lab\n"
          ],
          "name": "stdout"
        }
      ]
    },
    {
      "cell_type": "code",
      "metadata": {
        "id": "-HOySOWU-O7s"
      },
      "source": [
        "import numpy as np\r\n",
        "import pickle\r\n",
        "import random\r\n",
        "\r\n",
        "from sklearn.linear_model import LogisticRegression\r\n",
        "from sklearn.model_selection import cross_val_score, cross_val_predict\r\n",
        "from sklearn.metrics import confusion_matrix, matthews_corrcoef\r\n",
        "from xgboost import XGBClassifier\r\n",
        "from sklearn.ensemble import AdaBoostClassifier\r\n",
        "from sklearn.ensemble import RandomForestClassifier\r\n",
        "from sklearn.svm import SVC"
      ],
      "execution_count": 3,
      "outputs": []
    },
    {
      "cell_type": "code",
      "metadata": {
        "colab": {
          "base_uri": "https://localhost:8080/"
        },
        "id": "xrRuYzpH-mL4",
        "outputId": "3a94139e-cab3-40d0-826b-20a6433d16f0"
      },
      "source": [
        "Xtrain = np.load(f'./final datas/Xtrain.npy')\r\n",
        "Ytrain = np.load(f'./final datas/Ytrain.npy')\r\n",
        "Xtest = np.load(f'./final datas/Xtest.npy')\r\n",
        "Ytest = np.load(f'./final datas/Ytest.npy')\r\n",
        "\r\n",
        "with open('index_dict.pickle', 'rb') as handle:\r\n",
        "    index_dict = pickle.load(handle)\r\n",
        "index_dict"
      ],
      "execution_count": 4,
      "outputs": [
        {
          "output_type": "execute_result",
          "data": {
            "text/plain": [
              "{'(CKSNAP1)': [820, 851],\n",
              " '(CKSNAP3)': [852, 915],\n",
              " '(CKSNAP5)': [916, 1011],\n",
              " '(CKSNAP7)': [1012, 1139],\n",
              " '(CKSNAP9)': [1140, 1299],\n",
              " '(DAC7)': [1300, 1341],\n",
              " '(EIIP)': [1342, 1382],\n",
              " '(ENAC10)': [1531, 1658],\n",
              " '(ENAC5)': [1383, 1530],\n",
              " '(NCP)': [3023, 3145],\n",
              " '(PseEIIP)': [3146, 3209],\n",
              " '(TAC7)': [3210, 3223],\n",
              " '(binary)': [0, 819],\n",
              " '(kmer1)': [1659, 1662],\n",
              " '(kmer2)': [1663, 1678],\n",
              " '(kmer3)': [1679, 1742],\n",
              " '(kmer4)': [1743, 1998],\n",
              " '(kmer5)': [1999, 3022]}"
            ]
          },
          "metadata": {
            "tags": []
          },
          "execution_count": 4
        }
      ]
    },
    {
      "cell_type": "code",
      "metadata": {
        "id": "T9kFhdPj-uV3"
      },
      "source": [
        "random.seed(13)\r\n",
        "\r\n",
        "features ={1 : '(CKSNAP1)', 2 : '(CKSNAP3)', 3 : '(CKSNAP5)', 4 : '(CKSNAP7)', 5 : '(CKSNAP9)', 6 : '(DAC7)', 7 : '(EIIP)', 8 : '(ENAC5)', 9 : '(ENAC10)', 10 : '(kmer1)', 11 : '(kmer2)', 12 : '(kmer3)', 13 : '(kmer4)', 14 : '(kmer5)', 15 : '(NCP)', 16 : '(PseEIIP)', 17 : '(TAC7)', 18 : '(binary)'}\r\n",
        "\r\n",
        "\r\n",
        "subgrp1 = [features[random.randint(1,18)] for i in range(5)]\r\n",
        "subgrp2 = [features[random.randint(1,18)] for i in range(5)]\r\n",
        "subgrp3 = [features[random.randint(1,18)] for i in range(5)]\r\n",
        "subgrp4 = [features[random.randint(1,18)] for i in range(5)]\r\n",
        "subgrp5 = [features[random.randint(1,18)] for i in range(5)]\r\n",
        "\r\n",
        "\r\n"
      ],
      "execution_count": 11,
      "outputs": []
    },
    {
      "cell_type": "code",
      "metadata": {
        "id": "lluKyatqCJsf"
      },
      "source": [
        "X1 = np.concatenate([Xtrain[ : ,  index_dict[x][0] : index_dict[x][1]+1] for x in subgrp1], axis = 1)\r\n",
        "X2 = np.concatenate([Xtrain[ : ,  index_dict[x][0] : index_dict[x][1]+1] for x in subgrp2], axis = 1)\r\n",
        "X3 = np.concatenate([Xtrain[ : ,  index_dict[x][0] : index_dict[x][1]+1] for x in subgrp3], axis = 1)\r\n",
        "X4 = np.concatenate([Xtrain[ : ,  index_dict[x][0] : index_dict[x][1]+1] for x in subgrp4], axis = 1)\r\n",
        "X5 = np.concatenate([Xtrain[ : ,  index_dict[x][0] : index_dict[x][1]+1] for x in subgrp5], axis = 1)\r\n",
        "\r\n",
        "Xs = [X1, X2, X3, X4, X5]"
      ],
      "execution_count": 12,
      "outputs": []
    },
    {
      "cell_type": "code",
      "metadata": {
        "colab": {
          "base_uri": "https://localhost:8080/"
        },
        "id": "c4UT7Kem-5pW",
        "outputId": "d3d67032-8215-48e1-cfe3-7c0b000923da"
      },
      "source": [
        "subgroups = [subgrp1, subgrp2, subgrp3, subgrp4, subgrp5]\r\n",
        "for group in subgroups:\r\n",
        "  print(group)"
      ],
      "execution_count": 9,
      "outputs": [
        {
          "output_type": "stream",
          "text": [
            "['(ENAC10)', '(Kmer1)', '(DAC7)', '(ENAC5)', '(CKSNAP9)']\n",
            "['(ENAC5)', '(DAC7)', '(CKSNAP9)', '(CKSNAP5)', '(binary)']\n",
            "['(EIIP)', '(Kmer1)', '(CKSNAP1)', '(Kmer5)', '(CKSNAP9)']\n",
            "['(CKSNAP1)', '(ENAC10)', '(CKSNAP9)', '(CKSNAP5)', '(ENAC10)']\n",
            "['(NCP)', '(Kmer5)', '(CKSNAP9)', '(ENAC10)', '(Kmer3)']\n"
          ],
          "name": "stdout"
        }
      ]
    },
    {
      "cell_type": "code",
      "metadata": {
        "id": "zOYQ-KuuDKOV"
      },
      "source": [
        "from sklearn.model_selection import KFold\r\n",
        "from sklearn.metrics import accuracy_score\r\n",
        "from numpy import mean\r\n",
        "\r\n",
        "kf = KFold(n_splits=5, shuffle = True)"
      ],
      "execution_count": 13,
      "outputs": []
    },
    {
      "cell_type": "code",
      "metadata": {
        "colab": {
          "base_uri": "https://localhost:8080/"
        },
        "id": "Bnd-YBSDD6_g",
        "outputId": "e4ee9ff9-20a5-41de-f0a7-bfaffc0ccf77"
      },
      "source": [
        "lg = LogisticRegression(max_iter=500)\r\n",
        "for i,X in enumerate(Xs):\r\n",
        "  train_acc = []\r\n",
        "  test_acc = []\r\n",
        "  train_sensitivity = []\r\n",
        "  test_sensitivity = []\r\n",
        "  train_specificity = []\r\n",
        "  test_specificity = []\r\n",
        "  train_mcc = []\r\n",
        "  test_mcc = []\r\n",
        "  for train_index, test_index in kf.split(X):\r\n",
        "    X_train, X_test = X[train_index], X[test_index]\r\n",
        "    y_train, y_test = Ytrain[train_index], Ytrain[test_index]\r\n",
        "    lg.fit(X_train, y_train)\r\n",
        "    y_pred = lg.predict(X_train)\r\n",
        "    train_acc.append(accuracy_score(y_train, y_pred))\r\n",
        "    cf = confusion_matrix(y_train, y_pred)\r\n",
        "    train_sensitivity.append(cf[0,0]/(cf[0,0] + cf[0,1]))\r\n",
        "    train_specificity.append(cf[1,1]/(cf[1,0] + cf[1,1]))\r\n",
        "    train_mcc.append(matthews_corrcoef(y_train, y_pred))\r\n",
        "\r\n",
        "    lg.fit(X_train, y_train)\r\n",
        "    y_pred = lg.predict(X_test)\r\n",
        "    test_acc.append(accuracy_score(y_test, y_pred))\r\n",
        "    cf = confusion_matrix(y_test, y_pred)\r\n",
        "    test_sensitivity.append(cf[0,0]/(cf[0,0] + cf[0,1]))\r\n",
        "    test_specificity.append(cf[1,1]/(cf[1,0] + cf[1,1]))\r\n",
        "    test_mcc.append(matthews_corrcoef(y_test, y_pred))\r\n",
        "  print(f'subgroup{i+1} accuracy in logistic regression \\n train -> {mean(train_acc)}  test -> {mean(test_acc)}')\r\n",
        "  print(f'subgroup{i+1} sensitivity in logistic regression \\n train -> {mean(train_sensitivity)}  test -> {mean(test_sensitivity)}')\r\n",
        "  print(f'subgroup{i+1} specificity in logistic regression \\n train -> {mean(train_specificity)}  test -> {mean(test_specificity)}')\r\n",
        "  print(f'subgroup{i+1} mcc in logistic regression \\n train -> {mean(train_mcc)}  test -> {mean(test_mcc)}')"
      ],
      "execution_count": 15,
      "outputs": [
        {
          "output_type": "stream",
          "text": [
            "subgroup1 accuracy in logistic regression \n",
            " train -> 0.7969936130958017  test -> 0.7670612524799132\n",
            "subgroup1 sensitivity in logistic regression \n",
            " train -> 0.797096465178881  test -> 0.7677965086567575\n",
            "subgroup1 specificity in logistic regression \n",
            " train -> 0.7968418193388324  test -> 0.7655371292168445\n",
            "subgroup1 mcc in logistic regression \n",
            " train -> 0.5939701707304732  test -> 0.5336304870429692\n",
            "subgroup2 accuracy in logistic regression \n",
            " train -> 0.8108069069449817  test -> 0.7759992078946499\n",
            "subgroup2 sensitivity in logistic regression \n",
            " train -> 0.8069504425419968  test -> 0.7803915367167571\n",
            "subgroup2 specificity in logistic regression \n",
            " train -> 0.8145709092503921  test -> 0.7726418183205054\n",
            "subgroup2 mcc in logistic regression \n",
            " train -> 0.6215778571426094  test -> 0.5526594718079532\n",
            "subgroup3 accuracy in logistic regression \n",
            " train -> 0.7363213935497244  test -> 0.7080108987828714\n",
            "subgroup3 sensitivity in logistic regression \n",
            " train -> 0.7559180763124465  test -> 0.7230384984127726\n",
            "subgroup3 specificity in logistic regression \n",
            " train -> 0.7166538746366242  test -> 0.6937993346938642\n",
            "subgroup3 mcc in logistic regression \n",
            " train -> 0.47296736969010533  test -> 0.41686496764498615\n",
            "subgroup4 accuracy in logistic regression \n",
            " train -> 0.7811483955015395  test -> 0.7567759845392771\n",
            "subgroup4 sensitivity in logistic regression \n",
            " train -> 0.7857461063405815  test -> 0.7658190359965631\n",
            "subgroup4 specificity in logistic regression \n",
            " train -> 0.7765529400504492  test -> 0.7485987541117888\n",
            "subgroup4 mcc in logistic regression \n",
            " train -> 0.5623158461511586  test -> 0.5144107351065019\n",
            "subgroup5 accuracy in logistic regression \n",
            " train -> 0.8078952563302162  test -> 0.7705835542793859\n",
            "subgroup5 sensitivity in logistic regression \n",
            " train -> 0.8056450649492541  test -> 0.7617469118555125\n",
            "subgroup5 specificity in logistic regression \n",
            " train -> 0.8101043718235286  test -> 0.7793887554507072\n",
            "subgroup5 mcc in logistic regression \n",
            " train -> 0.6157760647362409  test -> 0.5411761335774761\n"
          ],
          "name": "stdout"
        }
      ]
    },
    {
      "cell_type": "markdown",
      "metadata": {
        "id": "KwHdHP8kJo0p"
      },
      "source": [
        "xg boost"
      ]
    },
    {
      "cell_type": "code",
      "metadata": {
        "colab": {
          "base_uri": "https://localhost:8080/"
        },
        "id": "bhD82ogTJKqV",
        "outputId": "ee493f4a-5443-4a95-cf4c-60fe5f783459"
      },
      "source": [
        "xgbst = XGBClassifier()\r\n",
        "\r\n",
        "for i,X in enumerate(Xs):\r\n",
        "  train_acc = []\r\n",
        "  test_acc = []\r\n",
        "  train_sensitivity = []\r\n",
        "  test_sensitivity = []\r\n",
        "  train_specificity = []\r\n",
        "  test_specificity = []\r\n",
        "  train_mcc = []\r\n",
        "  test_mcc = []\r\n",
        "  for train_index, test_index in kf.split(X):\r\n",
        "    X_train, X_test = X[train_index], X[test_index]\r\n",
        "    y_train, y_test = Ytrain[train_index], Ytrain[test_index]\r\n",
        "    xgbst.fit(X_train, y_train)\r\n",
        "    y_pred = xgbst.predict(X_train)\r\n",
        "    train_acc.append(accuracy_score(y_train, y_pred))\r\n",
        "    cf = confusion_matrix(y_train, y_pred)\r\n",
        "    train_sensitivity.append(cf[0,0]/(cf[0,0] + cf[0,1]))\r\n",
        "    train_specificity.append(cf[1,1]/(cf[1,0] + cf[1,1]))\r\n",
        "    train_mcc.append(matthews_corrcoef(y_train, y_pred))\r\n",
        "\r\n",
        "    xgbst.fit(X_train, y_train)\r\n",
        "    y_pred = xgbst.predict(X_test)\r\n",
        "    test_acc.append(accuracy_score(y_test, y_pred))\r\n",
        "    cf = confusion_matrix(y_test, y_pred)\r\n",
        "    test_sensitivity.append(cf[0,0]/(cf[0,0] + cf[0,1]))\r\n",
        "    test_specificity.append(cf[1,1]/(cf[1,0] + cf[1,1]))\r\n",
        "    test_mcc.append(matthews_corrcoef(y_test, y_pred))\r\n",
        "  print(f'subgroup{i+1} accuracy in XG boost \\n train -> {mean(train_acc)}  test -> {mean(test_acc)}')\r\n",
        "  print(f'subgroup{i+1} sensitivity in XG boost \\n train -> {mean(train_sensitivity)}  test -> {mean(test_sensitivity)}')\r\n",
        "  print(f'subgroup{i+1} specificity in XG boost \\n train -> {mean(train_specificity)}  test -> {mean(test_specificity)}')\r\n",
        "  print(f'subgroup{i+1} mcc in XG boost \\n train -> {mean(train_mcc)}  test -> {mean(test_mcc)}')"
      ],
      "execution_count": 17,
      "outputs": [
        {
          "output_type": "stream",
          "text": [
            "subgroup1 accuracy in XG boost \n",
            " train -> 0.8422268209623986  test -> 0.7267137529291396\n",
            "subgroup1 sensitivity in XG boost \n",
            " train -> 0.8508183560264723  test -> 0.7347144872818256\n",
            "subgroup1 specificity in XG boost \n",
            " train -> 0.8335185217396696  test -> 0.7196967282765124\n",
            "subgroup1 mcc in XG boost \n",
            " train -> 0.6845201143922163  test -> 0.45410627790690183\n",
            "subgroup2 accuracy in XG boost \n",
            " train -> 0.867483648704449  test -> 0.7730291795475465\n",
            "subgroup2 sensitivity in XG boost \n",
            " train -> 0.8736433455218648  test -> 0.7731908454313859\n",
            "subgroup2 specificity in XG boost \n",
            " train -> 0.861335381357612  test -> 0.7731072852079992\n",
            "subgroup2 mcc in XG boost \n",
            " train -> 0.735030319763113  test -> 0.5461586088235059\n",
            "subgroup3 accuracy in XG boost \n",
            " train -> 0.8552277259094809  test -> 0.7602942524689118\n",
            "subgroup3 sensitivity in XG boost \n",
            " train -> 0.8607633736924167  test -> 0.7611685325036992\n",
            "subgroup3 specificity in XG boost \n",
            " train -> 0.8496674769108333  test -> 0.759529015979815\n",
            "subgroup3 mcc in XG boost \n",
            " train -> 0.7105262999100608  test -> 0.5207008532654787\n",
            "subgroup4 accuracy in XG boost \n",
            " train -> 0.8263140590533571  test -> 0.7028680814548334\n",
            "subgroup4 sensitivity in XG boost \n",
            " train -> 0.8260731358632747  test -> 0.7017997346928821\n",
            "subgroup4 specificity in XG boost \n",
            " train -> 0.8264654878932433  test -> 0.7043794985855873\n",
            "subgroup4 mcc in XG boost \n",
            " train -> 0.6526737130991982  test -> 0.4061384960645686\n",
            "subgroup5 accuracy in XG boost \n",
            " train -> 0.8705987117973963  test -> 0.7600276503441625\n",
            "subgroup5 sensitivity in XG boost \n",
            " train -> 0.87890231855577  test -> 0.7556205610679827\n",
            "subgroup5 specificity in XG boost \n",
            " train -> 0.862219578462542  test -> 0.764633283382329\n",
            "subgroup5 mcc in XG boost \n",
            " train -> 0.741286681974454  test -> 0.5201024076284727\n"
          ],
          "name": "stdout"
        }
      ]
    },
    {
      "cell_type": "markdown",
      "metadata": {
        "id": "aoFJSAaqJkyT"
      },
      "source": [
        "ada boost\r\n"
      ]
    },
    {
      "cell_type": "code",
      "metadata": {
        "colab": {
          "base_uri": "https://localhost:8080/"
        },
        "id": "sAQwgDWCEAGJ",
        "outputId": "9f7152de-e255-4067-f32a-2c591cc502a5"
      },
      "source": [
        "ab = AdaBoostClassifier()\r\n",
        "\r\n",
        "for i,X in enumerate(Xs):\r\n",
        "  train_acc = []\r\n",
        "  test_acc = []\r\n",
        "  train_sensitivity = []\r\n",
        "  test_sensitivity = []\r\n",
        "  train_specificity = []\r\n",
        "  test_specificity = []\r\n",
        "  train_mcc = []\r\n",
        "  test_mcc = []\r\n",
        "  for train_index, test_index in kf.split(X):\r\n",
        "    X_train, X_test = X[train_index], X[test_index]\r\n",
        "    y_train, y_test = Ytrain[train_index], Ytrain[test_index]\r\n",
        "    ab.fit(X_train, y_train)\r\n",
        "    y_pred = ab.predict(X_train)\r\n",
        "    train_acc.append(accuracy_score(y_train, y_pred))\r\n",
        "    cf = confusion_matrix(y_train, y_pred)\r\n",
        "    train_sensitivity.append(cf[0,0]/(cf[0,0] + cf[0,1]))\r\n",
        "    train_specificity.append(cf[1,1]/(cf[1,0] + cf[1,1]))\r\n",
        "    train_mcc.append(matthews_corrcoef(y_train, y_pred))\r\n",
        "\r\n",
        "    ab.fit(X_train, y_train)\r\n",
        "    y_pred = ab.predict(X_test)\r\n",
        "    test_acc.append(accuracy_score(y_test, y_pred))\r\n",
        "    cf = confusion_matrix(y_test, y_pred)\r\n",
        "    test_sensitivity.append(cf[0,0]/(cf[0,0] + cf[0,1]))\r\n",
        "    test_specificity.append(cf[1,1]/(cf[1,0] + cf[1,1]))\r\n",
        "    test_mcc.append(matthews_corrcoef(y_test, y_pred))\r\n",
        "  print(f'subgroup{i+1} accuracy in Ada boost \\n train -> {mean(train_acc)}  test -> {mean(test_acc)}')\r\n",
        "  print(f'subgroup{i+1} sensitivity in Ada boost \\n train -> {mean(train_sensitivity)}  test -> {mean(test_sensitivity)}')\r\n",
        "  print(f'subgroup{i+1} specificity in Ada boost \\n train -> {mean(train_specificity)}  test -> {mean(test_specificity)}')\r\n",
        "  print(f'subgroup{i+1} mcc in Ada boost \\n train -> {mean(train_mcc)}  test -> {mean(test_mcc)}')"
      ],
      "execution_count": 18,
      "outputs": [
        {
          "output_type": "stream",
          "text": [
            "subgroup1 accuracy in Ada boost \n",
            " train -> 0.7557557683784848  test -> 0.7004345577961868\n",
            "subgroup1 sensitivity in Ada boost \n",
            " train -> 0.7551234948835692  test -> 0.7040119757152761\n",
            "subgroup1 specificity in Ada boost \n",
            " train -> 0.7563502770567675  test -> 0.6974976369836382\n",
            "subgroup1 mcc in Ada boost \n",
            " train -> 0.5114899246381247  test -> 0.40155771229577264\n",
            "subgroup2 accuracy in Ada boost \n",
            " train -> 0.7888004831275632  test -> 0.753794954728979\n",
            "subgroup2 sensitivity in Ada boost \n",
            " train -> 0.7841252199231638  test -> 0.7531717031944473\n",
            "subgroup2 specificity in Ada boost \n",
            " train -> 0.7932706394660319  test -> 0.7545069575165145\n",
            "subgroup2 mcc in Ada boost \n",
            " train -> 0.5776368944063591  test -> 0.5075702816106136\n",
            "subgroup3 accuracy in Ada boost \n",
            " train -> 0.7834501296662838  test -> 0.7397031805230097\n",
            "subgroup3 sensitivity in Ada boost \n",
            " train -> 0.7823363461061155  test -> 0.736686086087331\n",
            "subgroup3 specificity in Ada boost \n",
            " train -> 0.7845196386940338  test -> 0.7427435574624485\n",
            "subgroup3 mcc in Ada boost \n",
            " train -> 0.5668865573742808  test -> 0.4796005152134984\n",
            "subgroup4 accuracy in Ada boost \n",
            " train -> 0.739707046596177  test -> 0.6828267159532218\n",
            "subgroup4 sensitivity in Ada boost \n",
            " train -> 0.7436054970699194  test -> 0.6833454465006259\n",
            "subgroup4 specificity in Ada boost \n",
            " train -> 0.7357227783534612  test -> 0.6826693185044153\n",
            "subgroup4 mcc in Ada boost \n",
            " train -> 0.47938596131840494  test -> 0.3662598013146809\n",
            "subgroup5 accuracy in Ada boost \n",
            " train -> 0.7856847092831705  test -> 0.7456593726965687\n",
            "subgroup5 sensitivity in Ada boost \n",
            " train -> 0.7865579720238779  test -> 0.7557954967682877\n",
            "subgroup5 specificity in Ada boost \n",
            " train -> 0.7848178039073651  test -> 0.7360023956863898\n",
            "subgroup5 mcc in Ada boost \n",
            " train -> 0.5713725028889691  test -> 0.4917148596565438\n"
          ],
          "name": "stdout"
        }
      ]
    },
    {
      "cell_type": "markdown",
      "metadata": {
        "id": "CO-lceyJLH8d"
      },
      "source": [
        "random forest"
      ]
    },
    {
      "cell_type": "code",
      "metadata": {
        "colab": {
          "base_uri": "https://localhost:8080/"
        },
        "id": "y2xXKkAYK_WO",
        "outputId": "a9edf912-3ae2-4359-d3c4-00699ad34b23"
      },
      "source": [
        "rf = RandomForestClassifier()\r\n",
        "\r\n",
        "for i,X in enumerate(Xs):\r\n",
        "  train_acc = []\r\n",
        "  test_acc = []\r\n",
        "  train_sensitivity = []\r\n",
        "  test_sensitivity = []\r\n",
        "  train_specificity = []\r\n",
        "  test_specificity = []\r\n",
        "  train_mcc = []\r\n",
        "  test_mcc = []\r\n",
        "  for train_index, test_index in kf.split(X):\r\n",
        "    X_train, X_test = X[train_index], X[test_index]\r\n",
        "    y_train, y_test = Ytrain[train_index], Ytrain[test_index]\r\n",
        "    rf.fit(X_train, y_train)\r\n",
        "    y_pred = rf.predict(X_train)\r\n",
        "    train_acc.append(accuracy_score(y_train, y_pred))\r\n",
        "    cf = confusion_matrix(y_train, y_pred)\r\n",
        "    train_sensitivity.append(cf[0,0]/(cf[0,0] + cf[0,1]))\r\n",
        "    train_specificity.append(cf[1,1]/(cf[1,0] + cf[1,1]))\r\n",
        "    train_mcc.append(matthews_corrcoef(y_train, y_pred))\r\n",
        "\r\n",
        "    rf.fit(X_train, y_train)\r\n",
        "    y_pred = rf.predict(X_test)\r\n",
        "    test_acc.append(accuracy_score(y_test, y_pred))\r\n",
        "    cf = confusion_matrix(y_test, y_pred)\r\n",
        "    test_sensitivity.append(cf[0,0]/(cf[0,0] + cf[0,1]))\r\n",
        "    test_specificity.append(cf[1,1]/(cf[1,0] + cf[1,1]))\r\n",
        "    test_mcc.append(matthews_corrcoef(y_test, y_pred))\r\n",
        "  print(f'subgroup{i+1} accuracy in Random forest \\n train -> {mean(train_acc)}  test -> {mean(test_acc)}')\r\n",
        "  print(f'subgroup{i+1} sensitivity in Random forest \\n train -> {mean(train_sensitivity)}  test -> {mean(test_sensitivity)}')\r\n",
        "  print(f'subgroup{i+1} specificity in Random forest \\n train -> {mean(train_specificity)}  test -> {mean(test_specificity)}')\r\n",
        "  print(f'subgroup{i+1} mcc in Random forest \\n train -> {mean(train_mcc)}  test -> {mean(test_mcc)}')"
      ],
      "execution_count": 19,
      "outputs": [
        {
          "output_type": "stream",
          "text": [
            "subgroup1 accuracy in Random forest \n",
            " train -> 1.0  test -> 0.6912241328096637\n",
            "subgroup1 sensitivity in Random forest \n",
            " train -> 1.0  test -> 0.6963330041591892\n",
            "subgroup1 specificity in Random forest \n",
            " train -> 1.0  test -> 0.6870122787993362\n",
            "subgroup1 mcc in Random forest \n",
            " train -> 1.0  test -> 0.3833179581183671\n",
            "subgroup2 accuracy in Random forest \n",
            " train -> 1.0  test -> 0.7082896025171348\n",
            "subgroup2 sensitivity in Random forest \n",
            " train -> 1.0  test -> 0.7074716296131555\n",
            "subgroup2 specificity in Random forest \n",
            " train -> 1.0  test -> 0.7092020394403412\n",
            "subgroup2 mcc in Random forest \n",
            " train -> 1.0  test -> 0.4163971006870713\n",
            "subgroup3 accuracy in Random forest \n",
            " train -> 1.0  test -> 0.7007106945223714\n",
            "subgroup3 sensitivity in Random forest \n",
            " train -> 1.0  test -> 0.7080405118257072\n",
            "subgroup3 specificity in Random forest \n",
            " train -> 1.0  test -> 0.6937011306048664\n",
            "subgroup3 mcc in Random forest \n",
            " train -> 1.0  test -> 0.40158670270068353\n",
            "subgroup4 accuracy in Random forest \n",
            " train -> 1.0  test -> 0.681201066408499\n",
            "subgroup4 sensitivity in Random forest \n",
            " train -> 1.0  test -> 0.6831067937198518\n",
            "subgroup4 specificity in Random forest \n",
            " train -> 1.0  test -> 0.6806750526783591\n",
            "subgroup4 mcc in Random forest \n",
            " train -> 1.0  test -> 0.36390396135242575\n",
            "subgroup5 accuracy in Random forest \n",
            " train -> 1.0  test -> 0.708835641807027\n",
            "subgroup5 sensitivity in Random forest \n",
            " train -> 1.0  test -> 0.7066626561445634\n",
            "subgroup5 specificity in Random forest \n",
            " train -> 1.0  test -> 0.7119955628192506\n",
            "subgroup5 mcc in Random forest \n",
            " train -> 1.0  test -> 0.41880918479443413\n"
          ],
          "name": "stdout"
        }
      ]
    },
    {
      "cell_type": "markdown",
      "metadata": {
        "id": "qtj5KOm3LYRZ"
      },
      "source": [
        "svc"
      ]
    },
    {
      "cell_type": "code",
      "metadata": {
        "colab": {
          "base_uri": "https://localhost:8080/"
        },
        "id": "cM2xYikPLMCd",
        "outputId": "4ce89e7c-1d0c-4511-bc7d-ea5e0d194d11"
      },
      "source": [
        "svc = SVC()\r\n",
        "\r\n",
        "for i,X in enumerate(Xs):\r\n",
        "  train_acc = []\r\n",
        "  test_acc = []\r\n",
        "  train_sensitivity = []\r\n",
        "  test_sensitivity = []\r\n",
        "  train_specificity = []\r\n",
        "  test_specificity = []\r\n",
        "  train_mcc = []\r\n",
        "  test_mcc = []\r\n",
        "  for train_index, test_index in kf.split(X):\r\n",
        "    X_train, X_test = X[train_index], X[test_index]\r\n",
        "    y_train, y_test = Ytrain[train_index], Ytrain[test_index]\r\n",
        "    svc.fit(X_train, y_train)\r\n",
        "    y_pred = svc.predict(X_train)\r\n",
        "    train_acc.append(accuracy_score(y_train, y_pred))\r\n",
        "    cf = confusion_matrix(y_train, y_pred)\r\n",
        "    train_sensitivity.append(cf[0,0]/(cf[0,0] + cf[0,1]))\r\n",
        "    train_specificity.append(cf[1,1]/(cf[1,0] + cf[1,1]))\r\n",
        "    train_mcc.append(matthews_corrcoef(y_train, y_pred))\r\n",
        "\r\n",
        "    svc.fit(X_train, y_train)\r\n",
        "    y_pred = svc.predict(X_test)\r\n",
        "    test_acc.append(accuracy_score(y_test, y_pred))\r\n",
        "    cf = confusion_matrix(y_test, y_pred)\r\n",
        "    test_sensitivity.append(cf[0,0]/(cf[0,0] + cf[0,1]))\r\n",
        "    test_specificity.append(cf[1,1]/(cf[1,0] + cf[1,1]))\r\n",
        "    test_mcc.append(matthews_corrcoef(y_test, y_pred))\r\n",
        "  print(f'subgroup{i+1} accuracy in svc \\n train -> {mean(train_acc)}  test -> {mean(test_acc)}')\r\n",
        "  print(f'subgroup{i+1} sensitivity in svc \\n train -> {mean(train_sensitivity)}  test -> {mean(test_sensitivity)}')\r\n",
        "  print(f'subgroup{i+1} specificity in svc \\n train -> {mean(train_specificity)}  test -> {mean(test_specificity)}')\r\n",
        "  print(f'subgroup{i+1} mcc in svc \\n train -> {mean(train_mcc)}  test -> {mean(test_mcc)}')"
      ],
      "execution_count": 20,
      "outputs": [
        {
          "output_type": "stream",
          "text": [
            "subgroup1 accuracy in svc \n",
            " train -> 0.8454766746278471  test -> 0.7489147056558523\n",
            "subgroup1 sensitivity in svc \n",
            " train -> 0.8574883747568169  test -> 0.7592259962623574\n",
            "subgroup1 specificity in svc \n",
            " train -> 0.8333588428815581  test -> 0.7385889919054335\n",
            "subgroup1 mcc in svc \n",
            " train -> 0.6911432247800637  test -> 0.4978337917733585\n",
            "subgroup2 accuracy in svc \n",
            " train -> 0.8976162313619763  test -> 0.7651664338023624\n",
            "subgroup2 sensitivity in svc \n",
            " train -> 0.9044022437141285  test -> 0.7675616382190162\n",
            "subgroup2 specificity in svc \n",
            " train -> 0.890832648262105  test -> 0.7633029220862055\n",
            "subgroup2 mcc in svc \n",
            " train -> 0.79530496137291  test -> 0.5308775517347225\n",
            "subgroup3 accuracy in svc \n",
            " train -> 0.7688925185615034  test -> 0.7215665350158237\n",
            "subgroup3 sensitivity in svc \n",
            " train -> 0.7873645677187115  test -> 0.7403525600464702\n",
            "subgroup3 specificity in svc \n",
            " train -> 0.7503877737829511  test -> 0.7034180181083414\n",
            "subgroup3 mcc in svc \n",
            " train -> 0.5381359355911435  test -> 0.44418724725242953\n",
            "subgroup4 accuracy in svc \n",
            " train -> 0.7984830729957783  test -> 0.7329288462032115\n",
            "subgroup4 sensitivity in svc \n",
            " train -> 0.800471174486729  test -> 0.7388768734149427\n",
            "subgroup4 specificity in svc \n",
            " train -> 0.7964323951715846  test -> 0.7276221291021783\n",
            "subgroup4 mcc in svc \n",
            " train -> 0.5969406611640536  test -> 0.46606628721795157\n",
            "subgroup5 accuracy in svc \n",
            " train -> 0.8549564252045302  test -> 0.7632661143932142\n",
            "subgroup5 sensitivity in svc \n",
            " train -> 0.858711231763069  test -> 0.7650803107611523\n",
            "subgroup5 specificity in svc \n",
            " train -> 0.8510978362986865  test -> 0.7615770863434058\n",
            "subgroup5 mcc in svc \n",
            " train -> 0.7099034385350458  test -> 0.5266851762377064\n"
          ],
          "name": "stdout"
        }
      ]
    },
    {
      "cell_type": "markdown",
      "metadata": {
        "id": "9h-QQ9SWL8ub"
      },
      "source": [
        "indep test lg"
      ]
    },
    {
      "cell_type": "code",
      "metadata": {
        "colab": {
          "base_uri": "https://localhost:8080/"
        },
        "id": "UI34TfS5L7Sd",
        "outputId": "76cc7b93-cede-455b-a7eb-3c9b51b00d40"
      },
      "source": [
        "lg = LogisticRegression(max_iter=500)\r\n",
        "\r\n",
        "acc = []\r\n",
        "sensitivity = []\r\n",
        "specificity = []\r\n",
        "mcc = []\r\n",
        "lg.fit(Xtrain, Ytrain)\r\n",
        "y_pred = lg.predict(Xtest)\r\n",
        "acc = accuracy_score(Ytest, y_pred)\r\n",
        "cf = confusion_matrix(Ytest, y_pred)\r\n",
        "sensitivity = (cf[0,0]/(cf[0,0] + cf[0,1]))\r\n",
        "specificity = (cf[1,1]/(cf[1,0] + cf[1,1]))\r\n",
        "mcc = matthews_corrcoef(Ytest, y_pred)\r\n",
        "\r\n",
        "print(f'acc -> {acc} \\n sensitivity -> {sensitivity} \\n specificity -> {specificity} \\n mcc -> {mcc}')"
      ],
      "execution_count": 21,
      "outputs": [
        {
          "output_type": "stream",
          "text": [
            "acc -> 0.7992424242424242 \n",
            " sensitivity -> 0.7727272727272727 \n",
            " specificity -> 0.8257575757575758 \n",
            " mcc -> 0.5993281610305964\n"
          ],
          "name": "stdout"
        }
      ]
    },
    {
      "cell_type": "markdown",
      "metadata": {
        "id": "jc7CAQz2MMsl"
      },
      "source": [
        "inde test xg"
      ]
    },
    {
      "cell_type": "code",
      "metadata": {
        "colab": {
          "base_uri": "https://localhost:8080/"
        },
        "id": "rlh1zySeMAho",
        "outputId": "b48282a3-52e3-46d7-d764-7f4cc4d3f8de"
      },
      "source": [
        "xgbst = XGBClassifier()\r\n",
        "acc = []\r\n",
        "sensitivity = []\r\n",
        "specificity = []\r\n",
        "mcc = []\r\n",
        "xgbst.fit(Xtrain, Ytrain)\r\n",
        "y_pred = xgbst.predict(Xtest)\r\n",
        "acc = accuracy_score(Ytest, y_pred)\r\n",
        "cf = confusion_matrix(Ytest, y_pred)\r\n",
        "sensitivity = (cf[0,0]/(cf[0,0] + cf[0,1]))\r\n",
        "specificity = (cf[1,1]/(cf[1,0] + cf[1,1]))\r\n",
        "mcc = matthews_corrcoef(Ytest, y_pred)\r\n",
        "\r\n",
        "print(f'acc -> {acc} \\n sensitivity -> {sensitivity} \\n specificity -> {specificity} \\n mcc -> {mcc}')"
      ],
      "execution_count": 22,
      "outputs": [
        {
          "output_type": "stream",
          "text": [
            "acc -> 0.7916666666666666 \n",
            " sensitivity -> 0.803030303030303 \n",
            " specificity -> 0.7803030303030303 \n",
            " mcc -> 0.5834840459914051\n"
          ],
          "name": "stdout"
        }
      ]
    },
    {
      "cell_type": "markdown",
      "metadata": {
        "id": "0sJuB4AhP3jY"
      },
      "source": [
        "indep ada"
      ]
    },
    {
      "cell_type": "code",
      "metadata": {
        "colab": {
          "base_uri": "https://localhost:8080/"
        },
        "id": "zsFnjbBZMyVn",
        "outputId": "99249d32-0c60-47e1-d14a-aa8ff9a47da4"
      },
      "source": [
        "ab = AdaBoostClassifier()\r\n",
        "\r\n",
        "acc = []\r\n",
        "sensitivity = []\r\n",
        "specificity = []\r\n",
        "mcc = []\r\n",
        "ab.fit(Xtrain, Ytrain)\r\n",
        "y_pred = ab.predict(Xtest)\r\n",
        "acc = accuracy_score(Ytest, y_pred)\r\n",
        "cf = confusion_matrix(Ytest, y_pred)\r\n",
        "sensitivity = (cf[0,0]/(cf[0,0] + cf[0,1]))\r\n",
        "specificity = (cf[1,1]/(cf[1,0] + cf[1,1]))\r\n",
        "mcc = matthews_corrcoef(Ytest, y_pred)\r\n",
        "\r\n",
        "print(f'acc -> {acc} \\n sensitivity -> {sensitivity} \\n specificity -> {specificity} \\n mcc -> {mcc}')"
      ],
      "execution_count": 23,
      "outputs": [
        {
          "output_type": "stream",
          "text": [
            "acc -> 0.7537878787878788 \n",
            " sensitivity -> 0.7348484848484849 \n",
            " specificity -> 0.7727272727272727 \n",
            " mcc -> 0.5079402853927962\n"
          ],
          "name": "stdout"
        }
      ]
    },
    {
      "cell_type": "markdown",
      "metadata": {
        "id": "kM6GCjdGQC18"
      },
      "source": [
        "indep rand forest"
      ]
    },
    {
      "cell_type": "code",
      "metadata": {
        "colab": {
          "base_uri": "https://localhost:8080/"
        },
        "id": "CTLE9E6IQArZ",
        "outputId": "cdbcd6aa-da89-46fe-95c1-5867f0cc910f"
      },
      "source": [
        "\r\n",
        "rf = RandomForestClassifier()\r\n",
        "\r\n",
        "acc = []\r\n",
        "sensitivity = []\r\n",
        "specificity = []\r\n",
        "mcc = []\r\n",
        "rf.fit(Xtrain, Ytrain)\r\n",
        "y_pred = rf.predict(Xtest)\r\n",
        "acc = accuracy_score(Ytest, y_pred)\r\n",
        "cf = confusion_matrix(Ytest, y_pred)\r\n",
        "sensitivity = (cf[0,0]/(cf[0,0] + cf[0,1]))\r\n",
        "specificity = (cf[1,1]/(cf[1,0] + cf[1,1]))\r\n",
        "mcc = matthews_corrcoef(Ytest, y_pred)\r\n",
        "\r\n",
        "print(f'acc -> {acc} \\n sensitivity -> {sensitivity} \\n specificity -> {specificity} \\n mcc -> {mcc}')"
      ],
      "execution_count": 24,
      "outputs": [
        {
          "output_type": "stream",
          "text": [
            "acc -> 0.7045454545454546 \n",
            " sensitivity -> 0.7045454545454546 \n",
            " specificity -> 0.7045454545454546 \n",
            " mcc -> 0.4090909090909091\n"
          ],
          "name": "stdout"
        }
      ]
    },
    {
      "cell_type": "markdown",
      "metadata": {
        "id": "K7Xv9RYtQbPs"
      },
      "source": [
        "indep svc"
      ]
    },
    {
      "cell_type": "code",
      "metadata": {
        "colab": {
          "base_uri": "https://localhost:8080/"
        },
        "id": "2HrLfIRkQTxB",
        "outputId": "a7f95b9e-df5d-43cc-bcb9-a5fb70fde062"
      },
      "source": [
        "svc = SVC()\r\n",
        "acc = []\r\n",
        "sensitivity = []\r\n",
        "specificity = []\r\n",
        "mcc = []\r\n",
        "svc.fit(Xtrain, Ytrain)\r\n",
        "y_pred = svc.predict(Xtest)\r\n",
        "acc = accuracy_score(Ytest, y_pred)\r\n",
        "cf = confusion_matrix(Ytest, y_pred)\r\n",
        "sensitivity = (cf[0,0]/(cf[0,0] + cf[0,1]))\r\n",
        "specificity = (cf[1,1]/(cf[1,0] + cf[1,1]))\r\n",
        "mcc = matthews_corrcoef(Ytest, y_pred)\r\n",
        "\r\n",
        "print(f'acc -> {acc} \\n sensitivity -> {sensitivity} \\n specificity -> {specificity} \\n mcc -> {mcc}')"
      ],
      "execution_count": 25,
      "outputs": [
        {
          "output_type": "stream",
          "text": [
            "acc -> 0.803030303030303 \n",
            " sensitivity -> 0.803030303030303 \n",
            " specificity -> 0.803030303030303 \n",
            " mcc -> 0.6060606060606061\n"
          ],
          "name": "stdout"
        }
      ]
    }
  ]
}